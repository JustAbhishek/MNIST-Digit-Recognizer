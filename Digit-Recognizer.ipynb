{
 "cells": [
  {
   "cell_type": "markdown",
   "metadata": {},
   "source": [
    "### Importing Libraries"
   ]
  },
  {
   "cell_type": "code",
   "execution_count": 1,
   "metadata": {},
   "outputs": [
    {
     "name": "stderr",
     "output_type": "stream",
     "text": [
      "Using TensorFlow backend.\n"
     ]
    }
   ],
   "source": [
    "import pandas as pd\n",
    "import numpy as np\n",
    "\n",
    "from sklearn.model_selection import train_test_split\n",
    "from keras.utils import to_categorical\n",
    "from keras.layers import Input, Dense\n",
    "\n",
    "from keras.callbacks import ModelCheckpoint, EarlyStopping\n",
    "\n",
    "import tensorflow\n",
    "from tensorflow.keras.models import Sequential, Model\n",
    "from tensorflow.keras.layers import Dense, Dropout, Activation, RepeatVector, TimeDistributed\n",
    "from tensorflow.keras.layers import Embedding\n",
    "from tensorflow.keras.layers import Conv2D, BatchNormalization, Flatten, Input, Reshape, Flatten, MaxPooling2D, UpSampling2D\n",
    "from tensorflow.keras.layers import BatchNormalization, Flatten\n",
    "from tensorflow.keras.layers import LSTM\n",
    "from tensorflow.keras import regularizers\n",
    "\n",
    "from sklearn.metrics import classification_report, confusion_matrix\n",
    "import keras\n",
    "from keras import layers\n",
    "\n",
    "from mlxtend.plotting import plot_confusion_matrix\n",
    "from sklearn.metrics import confusion_matrix\n",
    "import matplotlib.pyplot as plt"
   ]
  },
  {
   "cell_type": "code",
   "execution_count": 2,
   "metadata": {},
   "outputs": [
    {
     "data": {
      "text/html": [
       "<div>\n",
       "<style scoped>\n",
       "    .dataframe tbody tr th:only-of-type {\n",
       "        vertical-align: middle;\n",
       "    }\n",
       "\n",
       "    .dataframe tbody tr th {\n",
       "        vertical-align: top;\n",
       "    }\n",
       "\n",
       "    .dataframe thead th {\n",
       "        text-align: right;\n",
       "    }\n",
       "</style>\n",
       "<table border=\"1\" class=\"dataframe\">\n",
       "  <thead>\n",
       "    <tr style=\"text-align: right;\">\n",
       "      <th></th>\n",
       "      <th>label</th>\n",
       "      <th>pixel0</th>\n",
       "      <th>pixel1</th>\n",
       "      <th>pixel2</th>\n",
       "      <th>pixel3</th>\n",
       "      <th>pixel4</th>\n",
       "      <th>pixel5</th>\n",
       "      <th>pixel6</th>\n",
       "      <th>pixel7</th>\n",
       "      <th>pixel8</th>\n",
       "      <th>...</th>\n",
       "      <th>pixel774</th>\n",
       "      <th>pixel775</th>\n",
       "      <th>pixel776</th>\n",
       "      <th>pixel777</th>\n",
       "      <th>pixel778</th>\n",
       "      <th>pixel779</th>\n",
       "      <th>pixel780</th>\n",
       "      <th>pixel781</th>\n",
       "      <th>pixel782</th>\n",
       "      <th>pixel783</th>\n",
       "    </tr>\n",
       "  </thead>\n",
       "  <tbody>\n",
       "    <tr>\n",
       "      <th>0</th>\n",
       "      <td>1</td>\n",
       "      <td>0</td>\n",
       "      <td>0</td>\n",
       "      <td>0</td>\n",
       "      <td>0</td>\n",
       "      <td>0</td>\n",
       "      <td>0</td>\n",
       "      <td>0</td>\n",
       "      <td>0</td>\n",
       "      <td>0</td>\n",
       "      <td>...</td>\n",
       "      <td>0</td>\n",
       "      <td>0</td>\n",
       "      <td>0</td>\n",
       "      <td>0</td>\n",
       "      <td>0</td>\n",
       "      <td>0</td>\n",
       "      <td>0</td>\n",
       "      <td>0</td>\n",
       "      <td>0</td>\n",
       "      <td>0</td>\n",
       "    </tr>\n",
       "    <tr>\n",
       "      <th>1</th>\n",
       "      <td>0</td>\n",
       "      <td>0</td>\n",
       "      <td>0</td>\n",
       "      <td>0</td>\n",
       "      <td>0</td>\n",
       "      <td>0</td>\n",
       "      <td>0</td>\n",
       "      <td>0</td>\n",
       "      <td>0</td>\n",
       "      <td>0</td>\n",
       "      <td>...</td>\n",
       "      <td>0</td>\n",
       "      <td>0</td>\n",
       "      <td>0</td>\n",
       "      <td>0</td>\n",
       "      <td>0</td>\n",
       "      <td>0</td>\n",
       "      <td>0</td>\n",
       "      <td>0</td>\n",
       "      <td>0</td>\n",
       "      <td>0</td>\n",
       "    </tr>\n",
       "    <tr>\n",
       "      <th>2</th>\n",
       "      <td>1</td>\n",
       "      <td>0</td>\n",
       "      <td>0</td>\n",
       "      <td>0</td>\n",
       "      <td>0</td>\n",
       "      <td>0</td>\n",
       "      <td>0</td>\n",
       "      <td>0</td>\n",
       "      <td>0</td>\n",
       "      <td>0</td>\n",
       "      <td>...</td>\n",
       "      <td>0</td>\n",
       "      <td>0</td>\n",
       "      <td>0</td>\n",
       "      <td>0</td>\n",
       "      <td>0</td>\n",
       "      <td>0</td>\n",
       "      <td>0</td>\n",
       "      <td>0</td>\n",
       "      <td>0</td>\n",
       "      <td>0</td>\n",
       "    </tr>\n",
       "    <tr>\n",
       "      <th>3</th>\n",
       "      <td>4</td>\n",
       "      <td>0</td>\n",
       "      <td>0</td>\n",
       "      <td>0</td>\n",
       "      <td>0</td>\n",
       "      <td>0</td>\n",
       "      <td>0</td>\n",
       "      <td>0</td>\n",
       "      <td>0</td>\n",
       "      <td>0</td>\n",
       "      <td>...</td>\n",
       "      <td>0</td>\n",
       "      <td>0</td>\n",
       "      <td>0</td>\n",
       "      <td>0</td>\n",
       "      <td>0</td>\n",
       "      <td>0</td>\n",
       "      <td>0</td>\n",
       "      <td>0</td>\n",
       "      <td>0</td>\n",
       "      <td>0</td>\n",
       "    </tr>\n",
       "    <tr>\n",
       "      <th>4</th>\n",
       "      <td>0</td>\n",
       "      <td>0</td>\n",
       "      <td>0</td>\n",
       "      <td>0</td>\n",
       "      <td>0</td>\n",
       "      <td>0</td>\n",
       "      <td>0</td>\n",
       "      <td>0</td>\n",
       "      <td>0</td>\n",
       "      <td>0</td>\n",
       "      <td>...</td>\n",
       "      <td>0</td>\n",
       "      <td>0</td>\n",
       "      <td>0</td>\n",
       "      <td>0</td>\n",
       "      <td>0</td>\n",
       "      <td>0</td>\n",
       "      <td>0</td>\n",
       "      <td>0</td>\n",
       "      <td>0</td>\n",
       "      <td>0</td>\n",
       "    </tr>\n",
       "  </tbody>\n",
       "</table>\n",
       "<p>5 rows × 785 columns</p>\n",
       "</div>"
      ],
      "text/plain": [
       "   label  pixel0  pixel1  pixel2  pixel3  pixel4  pixel5  pixel6  pixel7  \\\n",
       "0      1       0       0       0       0       0       0       0       0   \n",
       "1      0       0       0       0       0       0       0       0       0   \n",
       "2      1       0       0       0       0       0       0       0       0   \n",
       "3      4       0       0       0       0       0       0       0       0   \n",
       "4      0       0       0       0       0       0       0       0       0   \n",
       "\n",
       "   pixel8  ...  pixel774  pixel775  pixel776  pixel777  pixel778  pixel779  \\\n",
       "0       0  ...         0         0         0         0         0         0   \n",
       "1       0  ...         0         0         0         0         0         0   \n",
       "2       0  ...         0         0         0         0         0         0   \n",
       "3       0  ...         0         0         0         0         0         0   \n",
       "4       0  ...         0         0         0         0         0         0   \n",
       "\n",
       "   pixel780  pixel781  pixel782  pixel783  \n",
       "0         0         0         0         0  \n",
       "1         0         0         0         0  \n",
       "2         0         0         0         0  \n",
       "3         0         0         0         0  \n",
       "4         0         0         0         0  \n",
       "\n",
       "[5 rows x 785 columns]"
      ]
     },
     "execution_count": 2,
     "metadata": {},
     "output_type": "execute_result"
    }
   ],
   "source": [
    "df = pd.read_csv(\"Dataset/train.csv\")\n",
    "df.head()"
   ]
  },
  {
   "cell_type": "code",
   "execution_count": 3,
   "metadata": {},
   "outputs": [
    {
     "data": {
      "text/html": [
       "<div>\n",
       "<style scoped>\n",
       "    .dataframe tbody tr th:only-of-type {\n",
       "        vertical-align: middle;\n",
       "    }\n",
       "\n",
       "    .dataframe tbody tr th {\n",
       "        vertical-align: top;\n",
       "    }\n",
       "\n",
       "    .dataframe thead th {\n",
       "        text-align: right;\n",
       "    }\n",
       "</style>\n",
       "<table border=\"1\" class=\"dataframe\">\n",
       "  <thead>\n",
       "    <tr style=\"text-align: right;\">\n",
       "      <th></th>\n",
       "      <th>pixel0</th>\n",
       "      <th>pixel1</th>\n",
       "      <th>pixel2</th>\n",
       "      <th>pixel3</th>\n",
       "      <th>pixel4</th>\n",
       "      <th>pixel5</th>\n",
       "      <th>pixel6</th>\n",
       "      <th>pixel7</th>\n",
       "      <th>pixel8</th>\n",
       "      <th>pixel9</th>\n",
       "      <th>...</th>\n",
       "      <th>pixel774</th>\n",
       "      <th>pixel775</th>\n",
       "      <th>pixel776</th>\n",
       "      <th>pixel777</th>\n",
       "      <th>pixel778</th>\n",
       "      <th>pixel779</th>\n",
       "      <th>pixel780</th>\n",
       "      <th>pixel781</th>\n",
       "      <th>pixel782</th>\n",
       "      <th>pixel783</th>\n",
       "    </tr>\n",
       "  </thead>\n",
       "  <tbody>\n",
       "    <tr>\n",
       "      <th>0</th>\n",
       "      <td>0</td>\n",
       "      <td>0</td>\n",
       "      <td>0</td>\n",
       "      <td>0</td>\n",
       "      <td>0</td>\n",
       "      <td>0</td>\n",
       "      <td>0</td>\n",
       "      <td>0</td>\n",
       "      <td>0</td>\n",
       "      <td>0</td>\n",
       "      <td>...</td>\n",
       "      <td>0</td>\n",
       "      <td>0</td>\n",
       "      <td>0</td>\n",
       "      <td>0</td>\n",
       "      <td>0</td>\n",
       "      <td>0</td>\n",
       "      <td>0</td>\n",
       "      <td>0</td>\n",
       "      <td>0</td>\n",
       "      <td>0</td>\n",
       "    </tr>\n",
       "    <tr>\n",
       "      <th>1</th>\n",
       "      <td>0</td>\n",
       "      <td>0</td>\n",
       "      <td>0</td>\n",
       "      <td>0</td>\n",
       "      <td>0</td>\n",
       "      <td>0</td>\n",
       "      <td>0</td>\n",
       "      <td>0</td>\n",
       "      <td>0</td>\n",
       "      <td>0</td>\n",
       "      <td>...</td>\n",
       "      <td>0</td>\n",
       "      <td>0</td>\n",
       "      <td>0</td>\n",
       "      <td>0</td>\n",
       "      <td>0</td>\n",
       "      <td>0</td>\n",
       "      <td>0</td>\n",
       "      <td>0</td>\n",
       "      <td>0</td>\n",
       "      <td>0</td>\n",
       "    </tr>\n",
       "    <tr>\n",
       "      <th>2</th>\n",
       "      <td>0</td>\n",
       "      <td>0</td>\n",
       "      <td>0</td>\n",
       "      <td>0</td>\n",
       "      <td>0</td>\n",
       "      <td>0</td>\n",
       "      <td>0</td>\n",
       "      <td>0</td>\n",
       "      <td>0</td>\n",
       "      <td>0</td>\n",
       "      <td>...</td>\n",
       "      <td>0</td>\n",
       "      <td>0</td>\n",
       "      <td>0</td>\n",
       "      <td>0</td>\n",
       "      <td>0</td>\n",
       "      <td>0</td>\n",
       "      <td>0</td>\n",
       "      <td>0</td>\n",
       "      <td>0</td>\n",
       "      <td>0</td>\n",
       "    </tr>\n",
       "    <tr>\n",
       "      <th>3</th>\n",
       "      <td>0</td>\n",
       "      <td>0</td>\n",
       "      <td>0</td>\n",
       "      <td>0</td>\n",
       "      <td>0</td>\n",
       "      <td>0</td>\n",
       "      <td>0</td>\n",
       "      <td>0</td>\n",
       "      <td>0</td>\n",
       "      <td>0</td>\n",
       "      <td>...</td>\n",
       "      <td>0</td>\n",
       "      <td>0</td>\n",
       "      <td>0</td>\n",
       "      <td>0</td>\n",
       "      <td>0</td>\n",
       "      <td>0</td>\n",
       "      <td>0</td>\n",
       "      <td>0</td>\n",
       "      <td>0</td>\n",
       "      <td>0</td>\n",
       "    </tr>\n",
       "    <tr>\n",
       "      <th>4</th>\n",
       "      <td>0</td>\n",
       "      <td>0</td>\n",
       "      <td>0</td>\n",
       "      <td>0</td>\n",
       "      <td>0</td>\n",
       "      <td>0</td>\n",
       "      <td>0</td>\n",
       "      <td>0</td>\n",
       "      <td>0</td>\n",
       "      <td>0</td>\n",
       "      <td>...</td>\n",
       "      <td>0</td>\n",
       "      <td>0</td>\n",
       "      <td>0</td>\n",
       "      <td>0</td>\n",
       "      <td>0</td>\n",
       "      <td>0</td>\n",
       "      <td>0</td>\n",
       "      <td>0</td>\n",
       "      <td>0</td>\n",
       "      <td>0</td>\n",
       "    </tr>\n",
       "  </tbody>\n",
       "</table>\n",
       "<p>5 rows × 784 columns</p>\n",
       "</div>"
      ],
      "text/plain": [
       "   pixel0  pixel1  pixel2  pixel3  pixel4  pixel5  pixel6  pixel7  pixel8  \\\n",
       "0       0       0       0       0       0       0       0       0       0   \n",
       "1       0       0       0       0       0       0       0       0       0   \n",
       "2       0       0       0       0       0       0       0       0       0   \n",
       "3       0       0       0       0       0       0       0       0       0   \n",
       "4       0       0       0       0       0       0       0       0       0   \n",
       "\n",
       "   pixel9  ...  pixel774  pixel775  pixel776  pixel777  pixel778  pixel779  \\\n",
       "0       0  ...         0         0         0         0         0         0   \n",
       "1       0  ...         0         0         0         0         0         0   \n",
       "2       0  ...         0         0         0         0         0         0   \n",
       "3       0  ...         0         0         0         0         0         0   \n",
       "4       0  ...         0         0         0         0         0         0   \n",
       "\n",
       "   pixel780  pixel781  pixel782  pixel783  \n",
       "0         0         0         0         0  \n",
       "1         0         0         0         0  \n",
       "2         0         0         0         0  \n",
       "3         0         0         0         0  \n",
       "4         0         0         0         0  \n",
       "\n",
       "[5 rows x 784 columns]"
      ]
     },
     "execution_count": 3,
     "metadata": {},
     "output_type": "execute_result"
    }
   ],
   "source": [
    "df1  = pd.read_csv(\"Dataset/test.csv\")\n",
    "df1.head()"
   ]
  },
  {
   "cell_type": "markdown",
   "metadata": {},
   "source": [
    "#### Splitting and Reshaping the dataset"
   ]
  },
  {
   "cell_type": "code",
   "execution_count": 4,
   "metadata": {},
   "outputs": [
    {
     "name": "stdout",
     "output_type": "stream",
     "text": [
      "X_train shape (42000, 784)\n",
      "y_test shape (42000,)\n",
      "X_test shape (28000, 784)\n"
     ]
    }
   ],
   "source": [
    "x_train = df.drop(['label'], axis=1).values\n",
    "train_y = df['label'].values\n",
    "x_test = df1.values\n",
    "\n",
    "print(\"X_train shape\", x_train.shape)\n",
    "print(\"y_test shape\", train_y.shape)\n",
    "print(\"X_test shape\", x_test.shape)"
   ]
  },
  {
   "cell_type": "code",
   "execution_count": 5,
   "metadata": {},
   "outputs": [],
   "source": [
    "IMG_SIZE = 32"
   ]
  },
  {
   "cell_type": "code",
   "execution_count": 6,
   "metadata": {},
   "outputs": [],
   "source": [
    "import cv2\n",
    "\n",
    "def resize(img_array):\n",
    "    tmp = np.empty((img_array.shape[0], IMG_SIZE, IMG_SIZE))\n",
    "\n",
    "    for i in range(len(img_array)):\n",
    "        img = img_array[i].reshape(28, 28).astype('uint8')\n",
    "        img = cv2.resize(img, (IMG_SIZE, IMG_SIZE))\n",
    "        img = img.astype('float32')/255\n",
    "        tmp[i] = img\n",
    "        \n",
    "    return tmp\n",
    "\n",
    "x_train = resize(x_train)\n",
    "x_test = resize(x_test)"
   ]
  },
  {
   "cell_type": "code",
   "execution_count": 7,
   "metadata": {},
   "outputs": [
    {
     "name": "stdout",
     "output_type": "stream",
     "text": [
      "(42000, 32, 32, 3)\n",
      "(28000, 32, 32, 3)\n"
     ]
    }
   ],
   "source": [
    "X_train_final = np.stack((x_train,)*3, axis=-1)\n",
    "X_test_final = np.stack((x_test,)*3, axis=-1)\n",
    "print(X_train_final.shape)\n",
    "print(X_test_final.shape)"
   ]
  },
  {
   "cell_type": "code",
   "execution_count": 8,
   "metadata": {},
   "outputs": [
    {
     "name": "stdout",
     "output_type": "stream",
     "text": [
      "(42000, 10)\n"
     ]
    }
   ],
   "source": [
    "y_train_final = to_categorical(train_y, num_classes=10)\n",
    "print(y_train_final.shape)"
   ]
  },
  {
   "cell_type": "code",
   "execution_count": 9,
   "metadata": {},
   "outputs": [
    {
     "name": "stdout",
     "output_type": "stream",
     "text": [
      "(33600, 32, 32, 3)\n",
      "(8400, 32, 32, 3)\n",
      "(33600, 10)\n",
      "(8400, 10)\n"
     ]
    }
   ],
   "source": [
    "X_train, X_test, y_train, y_test = train_test_split(X_train_final, y_train_final, test_size=0.2, random_state=2021)\n",
    "print(X_train.shape)\n",
    "print(X_test.shape)\n",
    "print(y_train.shape)\n",
    "print(y_test.shape)"
   ]
  },
  {
   "cell_type": "code",
   "execution_count": 10,
   "metadata": {},
   "outputs": [
    {
     "data": {
      "image/png": "[encoded data removed]",
      "text/plain": [
       "<Figure size 432x288 with 9 Axes>"
      ]
     },
     "metadata": {
      "needs_background": "light"
     },
     "output_type": "display_data"
    }
   ],
   "source": [
    "# plot first few images\n",
    "import matplotlib.pyplot as plt\n",
    "for i in range(9):\n",
    "    plt.subplot(330 + 1 + i)\n",
    "    plt.imshow(X_train[i], cmap=plt.get_cmap('gray'))\n",
    "# show the figure\n",
    "plt.show()"
   ]
  },
  {
   "cell_type": "markdown",
   "metadata": {},
   "source": [
    "#### Code which helps to plot the Accuracy and Loss Curve"
   ]
  },
  {
   "cell_type": "code",
   "execution_count": 11,
   "metadata": {},
   "outputs": [],
   "source": [
    "def plot_history(history):\n",
    "    loss_list = [s for s in history.history.keys() if 'loss' in s and 'val' not in s]\n",
    "    val_loss_list = [s for s in history.history.keys() if 'loss' in s and 'val' in s]\n",
    "    acc_list = [s for s in history.history.keys() if 'acc' in s and 'val' not in s]\n",
    "    val_acc_list = [s for s in history.history.keys() if 'acc' in s and 'val' in s]\n",
    "    \n",
    "    if len(loss_list) == 0:\n",
    "        print('Loss is missing in history')\n",
    "        return \n",
    "    \n",
    "    ## As loss always exists\n",
    "    epochs = range(1,len(history.history[loss_list[0]]) + 1)\n",
    "    \n",
    "    ## Loss\n",
    "    plt.figure(1)\n",
    "    plt.figsize=(10, 10)\n",
    "    for l in loss_list:\n",
    "        plt.plot(epochs, history.history[l], 'b', label='Training loss (' + str(str(format(history.history[l][-1],'.5f'))+')'))\n",
    "    for l in val_loss_list:\n",
    "        plt.plot(epochs, history.history[l], 'g', label='Validation loss (' + str(str(format(history.history[l][-1],'.5f'))+')'))\n",
    "    \n",
    "    plt.title('Loss')\n",
    "    plt.xlabel('Epochs')\n",
    "    plt.ylabel('Loss')\n",
    "    plt.legend()\n",
    "    \n",
    "    ## Accuracy\n",
    "    plt.figure(2)\n",
    "    plt.figsize=(10, 10)\n",
    "    for l in acc_list:\n",
    "        plt.plot(epochs, history.history[l], 'b', label='Training accuracy (' + str(format(history.history[l][-1],'.5f'))+')')\n",
    "    for l in val_acc_list:    \n",
    "        plt.plot(epochs, history.history[l], 'g', label='Validation accuracy (' + str(format(history.history[l][-1],'.5f'))+')')\n",
    "\n",
    "    plt.title('Accuracy')\n",
    "    plt.xlabel('Epochs')\n",
    "    plt.ylabel('Accuracy')\n",
    "    plt.legend()\n",
    "    plt.show()"
   ]
  },
  {
   "cell_type": "markdown",
   "metadata": {},
   "source": [
    "## Comparitive-Models"
   ]
  },
  {
   "cell_type": "markdown",
   "metadata": {},
   "source": [
    "### Convolution Neural Network (CNN)"
   ]
  },
  {
   "cell_type": "code",
   "execution_count": 15,
   "metadata": {},
   "outputs": [],
   "source": [
    "model1 = Sequential()\n",
    "model1.add(Conv2D(IMG_SIZE, (3, 3), activation='relu', padding='valid'))\n",
    "model1.add(MaxPooling2D(pool_size=(2, 2)))\n",
    "model1.add(Flatten())\n",
    "model1.add(Dense(512, activation='relu'))\n",
    "model1.add(Dropout(0.1))\n",
    "model1.add(Dense(10, activation='softmax'))\n",
    "model1.compile(loss='categorical_crossentropy',\n",
    "              optimizer=\"adam\", metrics=['accuracy'])"
   ]
  },
  {
   "cell_type": "code",
   "execution_count": 16,
   "metadata": {},
   "outputs": [],
   "source": [
    "es = EarlyStopping(monitor='val_accuracy', verbose=1, patience=5)\n",
    "mc = ModelCheckpoint(filepath='CNN.h5', verbose=1, monitor='val_acc')\n",
    "cb = [es, mc]"
   ]
  },
  {
   "cell_type": "code",
   "execution_count": 17,
   "metadata": {},
   "outputs": [
    {
     "name": "stdout",
     "output_type": "stream",
     "text": [
      "Epoch 1/50\n",
      "263/263 [==============================] - 36s 34ms/step - loss: 0.4028 - accuracy: 0.8775 - val_loss: 0.0839 - val_accuracy: 0.9718\n",
      "\n",
      "Epoch 00001: saving model to CNN.h5\n",
      "Epoch 2/50\n",
      "263/263 [==============================] - 7s 25ms/step - loss: 0.0604 - accuracy: 0.9819 - val_loss: 0.0580 - val_accuracy: 0.9824\n",
      "\n",
      "Epoch 00002: saving model to CNN.h5\n",
      "Epoch 3/50\n",
      "263/263 [==============================] - 6s 24ms/step - loss: 0.0338 - accuracy: 0.9896 - val_loss: 0.0533 - val_accuracy: 0.9850\n",
      "\n",
      "Epoch 00003: saving model to CNN.h5\n",
      "Epoch 4/50\n",
      "263/263 [==============================] - 6s 25ms/step - loss: 0.0209 - accuracy: 0.9935 - val_loss: 0.0543 - val_accuracy: 0.9854\n",
      "\n",
      "Epoch 00004: saving model to CNN.h5\n",
      "Epoch 5/50\n",
      "263/263 [==============================] - 11s 41ms/step - loss: 0.0148 - accuracy: 0.9951 - val_loss: 0.0591 - val_accuracy: 0.9846\n",
      "\n",
      "Epoch 00005: saving model to CNN.h5\n",
      "Epoch 6/50\n",
      "263/263 [==============================] - 7s 26ms/step - loss: 0.0110 - accuracy: 0.9964 - val_loss: 0.0524 - val_accuracy: 0.9864\n",
      "\n",
      "Epoch 00006: saving model to CNN.h5\n",
      "Epoch 7/50\n",
      "263/263 [==============================] - 6s 24ms/step - loss: 0.0090 - accuracy: 0.9966 - val_loss: 0.0521 - val_accuracy: 0.9876\n",
      "\n",
      "Epoch 00007: saving model to CNN.h5\n",
      "Epoch 8/50\n",
      "263/263 [==============================] - 7s 25ms/step - loss: 0.0040 - accuracy: 0.9991 - val_loss: 0.0588 - val_accuracy: 0.9858\n",
      "\n",
      "Epoch 00008: saving model to CNN.h5\n",
      "Epoch 9/50\n",
      "263/263 [==============================] - 7s 25ms/step - loss: 0.0053 - accuracy: 0.9986 - val_loss: 0.0745 - val_accuracy: 0.9830\n",
      "\n",
      "Epoch 00009: saving model to CNN.h5\n",
      "Epoch 10/50\n",
      "263/263 [==============================] - 6s 24ms/step - loss: 0.0079 - accuracy: 0.9973 - val_loss: 0.0625 - val_accuracy: 0.9860\n",
      "\n",
      "Epoch 00010: saving model to CNN.h5\n",
      "Epoch 11/50\n",
      "263/263 [==============================] - 6s 24ms/step - loss: 0.0068 - accuracy: 0.9976 - val_loss: 0.0692 - val_accuracy: 0.9844\n",
      "\n",
      "Epoch 00011: saving model to CNN.h5\n",
      "Epoch 12/50\n",
      "263/263 [==============================] - 6s 22ms/step - loss: 0.0079 - accuracy: 0.9975 - val_loss: 0.0694 - val_accuracy: 0.9861\n",
      "\n",
      "Epoch 00012: saving model to CNN.h5\n",
      "Epoch 00012: early stopping\n"
     ]
    }
   ],
   "source": [
    "history1 = model1.fit(X_train, y_train, \n",
    "                    epochs=50, \n",
    "                    batch_size=128, \n",
    "                    validation_data=(X_test, y_test),\n",
    "                    callbacks=cb)"
   ]
  },
  {
   "cell_type": "code",
   "execution_count": 18,
   "metadata": {},
   "outputs": [
    {
     "data": {
      "image/png": "[encoded data removed]",
      "text/plain": [
       "<Figure size 432x288 with 1 Axes>"
      ]
     },
     "metadata": {
      "needs_background": "light"
     },
     "output_type": "display_data"
    },
    {
     "data": {
      "image/png": "[encoded data removed]",
      "text/plain": [
       "<Figure size 432x288 with 1 Axes>"
      ]
     },
     "metadata": {
      "needs_background": "light"
     },
     "output_type": "display_data"
    }
   ],
   "source": [
    "plot_history(history1)"
   ]
  },
  {
   "cell_type": "code",
   "execution_count": 19,
   "metadata": {},
   "outputs": [
    {
     "name": "stdout",
     "output_type": "stream",
     "text": [
      "Test accuracy CNN%: 98.60714077949524\n"
     ]
    }
   ],
   "source": [
    "score1 = model1.evaluate(X_test, y_test, verbose=0)\n",
    "print('Test accuracy CNN%:', (score1[1]*100))"
   ]
  },
  {
   "cell_type": "code",
   "execution_count": 20,
   "metadata": {},
   "outputs": [
    {
     "name": "stdout",
     "output_type": "stream",
     "text": [
      "[1 2 7 1 0 4 6 3 0 3]\n"
     ]
    }
   ],
   "source": [
    "pred_1=model1.predict(X_test, batch_size=128)\n",
    "y_pred_1= pred_1.argmax(axis=-1)\n",
    "\n",
    "y_true_onehot = y_test\n",
    "y_true_label = np.argmax(y_true_onehot, axis=1)\n",
    "y_true = y_true_label\n",
    "y_pred1 = y_pred_1\n",
    "print(y_pred1[0:10])"
   ]
  },
  {
   "cell_type": "code",
   "execution_count": 21,
   "metadata": {},
   "outputs": [
    {
     "name": "stdout",
     "output_type": "stream",
     "text": [
      "[[772   0   0   2   0   0   5   0   1   1]\n",
      " [  0 946   0   0   1   0   1   3   1   1]\n",
      " [  0   0 877   1   0   0   0   1   0   2]\n",
      " [  0   1   4 868   0   3   0   0   5   0]\n",
      " [  0   1   0   0 829   0   4   0   0   4]\n",
      " [  0   0   1  11   0 728   7   0   3   2]\n",
      " [  0   0   0   0   2   2 818   0   2   0]\n",
      " [  2   0   5   0   3   1   0 894   5   2]\n",
      " [  0   1   1   3   1   3   2   0 743   1]\n",
      " [  1   0   1   2   3   3   0   2   3 808]]\n"
     ]
    }
   ],
   "source": [
    "cm = confusion_matrix(y_true, y_pred1)\n",
    "print(cm)"
   ]
  },
  {
   "cell_type": "code",
   "execution_count": 22,
   "metadata": {},
   "outputs": [
    {
     "data": {
      "image/png": "[encoded data removed]",
      "text/plain": [
       "<Figure size 648x648 with 2 Axes>"
      ]
     },
     "metadata": {
      "needs_background": "light"
     },
     "output_type": "display_data"
    }
   ],
   "source": [
    "plt.figure(figsize=(9,9))\n",
    "plt.imshow(cm, interpolation='nearest', cmap='Pastel1')\n",
    "plt.title('Confusion matrix', size = 15)\n",
    "plt.colorbar()\n",
    "tick_marks = np.arange(10)\n",
    "plt.xticks(tick_marks, [\"0\", \"1\", \"2\", \"3\", \"4\", \"5\", \"6\", \"7\", \"8\", \"9\"], rotation=45, size = 10)\n",
    "plt.yticks(tick_marks, [\"0\", \"1\", \"2\", \"3\", \"4\", \"5\", \"6\", \"7\", \"8\", \"9\"], size = 10)\n",
    "plt.tight_layout()\n",
    "plt.ylabel('Actual label', size = 15)\n",
    "plt.xlabel('Predicted label', size = 15)\n",
    "width, height = cm.shape\n",
    "\n",
    "for x in range(width):\n",
    "    for y in range(height):\n",
    "        plt.annotate(str(cm[x][y]), xy=(y, x), \n",
    "                    horizontalalignment='center',\n",
    "                    verticalalignment='center')\n",
    "plt.savefig('CNN.png')\n"
   ]
  },
  {
   "cell_type": "markdown",
   "metadata": {},
   "source": [
    "### Convolution Neural Network with AutoEncoder"
   ]
  },
  {
   "cell_type": "code",
   "execution_count": 23,
   "metadata": {},
   "outputs": [
    {
     "name": "stdout",
     "output_type": "stream",
     "text": [
      "Model: \"model\"\n",
      "_________________________________________________________________\n",
      "Layer (type)                 Output Shape              Param #   \n",
      "=================================================================\n",
      "input_1 (InputLayer)         [(None, 32, 32, 3)]       0         \n",
      "_________________________________________________________________\n",
      "conv2d_2 (Conv2D)            (None, 32, 32, 512)       14336     \n",
      "_________________________________________________________________\n",
      "max_pooling2d_2 (MaxPooling2 (None, 16, 16, 512)       0         \n",
      "_________________________________________________________________\n",
      "dropout_2 (Dropout)          (None, 16, 16, 512)       0         \n",
      "_________________________________________________________________\n",
      "conv2d_3 (Conv2D)            (None, 16, 16, 256)       1179904   \n",
      "_________________________________________________________________\n",
      "max_pooling2d_3 (MaxPooling2 (None, 8, 8, 256)         0         \n",
      "_________________________________________________________________\n",
      "dropout_3 (Dropout)          (None, 8, 8, 256)         0         \n",
      "_________________________________________________________________\n",
      "conv2d_4 (Conv2D)            (None, 8, 8, 256)         590080    \n",
      "_________________________________________________________________\n",
      "max_pooling2d_4 (MaxPooling2 (None, 4, 4, 256)         0         \n",
      "_________________________________________________________________\n",
      "dropout_4 (Dropout)          (None, 4, 4, 256)         0         \n",
      "_________________________________________________________________\n",
      "conv2d_5 (Conv2D)            (None, 4, 4, 256)         590080    \n",
      "_________________________________________________________________\n",
      "max_pooling2d_5 (MaxPooling2 (None, 2, 2, 256)         0         \n",
      "_________________________________________________________________\n",
      "dropout_5 (Dropout)          (None, 2, 2, 256)         0         \n",
      "_________________________________________________________________\n",
      "conv2d_6 (Conv2D)            (None, 2, 2, 256)         590080    \n",
      "_________________________________________________________________\n",
      "max_pooling2d_6 (MaxPooling2 (None, 1, 1, 256)         0         \n",
      "_________________________________________________________________\n",
      "dropout_6 (Dropout)          (None, 1, 1, 256)         0         \n",
      "_________________________________________________________________\n",
      "conv2d_7 (Conv2D)            (None, 1, 1, 512)         1180160   \n",
      "_________________________________________________________________\n",
      "max_pooling2d_7 (MaxPooling2 (None, 1, 1, 512)         0         \n",
      "_________________________________________________________________\n",
      "dropout_7 (Dropout)          (None, 1, 1, 512)         0         \n",
      "_________________________________________________________________\n",
      "flatten_2 (Flatten)          (None, 512)               0         \n",
      "_________________________________________________________________\n",
      "dense_4 (Dense)              (None, 10)                5130      \n",
      "=================================================================\n",
      "Total params: 4,149,770\n",
      "Trainable params: 4,149,770\n",
      "Non-trainable params: 0\n",
      "_________________________________________________________________\n"
     ]
    }
   ],
   "source": [
    "input_signal = Input(shape=(32, 32, 3))\n",
    "\n",
    "#ENCODER\n",
    " \n",
    "e = Conv2D(filters = 512, kernel_size = (3, 3), activation='relu', padding='same',  kernel_initializer='he_uniform')(input_signal)\n",
    "e = MaxPooling2D(pool_size = (2, 2), padding='same')(e)\n",
    "e = Dropout(0.1)(e)\n",
    "\n",
    "\n",
    "e = Conv2D(filters = 256, kernel_size = (3, 3), activation='relu', padding='same',  kernel_initializer='he_uniform')(e)\n",
    "e = MaxPooling2D(pool_size = (2, 2), padding='same')(e)\n",
    "e = Dropout(0.1)(e)\n",
    "\n",
    "e = Conv2D(filters = 256, kernel_size = (3, 3), activation='relu', padding='same',  kernel_initializer='he_uniform')(e)\n",
    "e = MaxPooling2D(pool_size = (2, 2), padding='same')(e)\n",
    "e = Dropout(0.1)(e)\n",
    "\n",
    "##DECODER\n",
    "d = Conv2D(256, (3, 3), activation='relu', padding='same',  kernel_initializer='he_uniform')(e)\n",
    "d = MaxPooling2D(pool_size = (2, 2), padding='same')(d)\n",
    "d = Dropout(0.1)(d)\n",
    "\n",
    "d = Conv2D(256, (3, 3), activation='relu', padding='same',  kernel_initializer='he_uniform')(d)\n",
    "d = MaxPooling2D(pool_size = (2, 2), padding='same')(d)\n",
    "d = Dropout(0.1)(d)\n",
    "\n",
    "d = Conv2D(512, (3, 3), activation='relu', padding='same',  kernel_initializer='he_uniform')(d)\n",
    "d = MaxPooling2D(pool_size = (2, 2), padding='same')(d)\n",
    "d = Dropout(0.1)(d)\n",
    "\n",
    "d = Flatten()(d)\n",
    "decoded = Dense(10, activation=\"softmax\")(d)\n",
    "\n",
    "\n",
    "model2 = Model(inputs=input_signal, outputs=decoded)\n",
    "model2.compile(loss=\"categorical_crossentropy\", optimizer=\"adam\", metrics=[\"accuracy\"])\n",
    "model2.summary()"
   ]
  },
  {
   "cell_type": "code",
   "execution_count": 24,
   "metadata": {},
   "outputs": [],
   "source": [
    "es = EarlyStopping(monitor='val_accuracy', verbose=1, patience=5)\n",
    "mc = ModelCheckpoint(filepath='CNN-AutoEncoder.h5', verbose=1, monitor='val_acc')\n",
    "cb = [es, mc]"
   ]
  },
  {
   "cell_type": "code",
   "execution_count": 25,
   "metadata": {},
   "outputs": [
    {
     "name": "stdout",
     "output_type": "stream",
     "text": [
      "Epoch 1/50\n",
      "263/263 [==============================] - 61s 207ms/step - loss: 0.9002 - accuracy: 0.7010 - val_loss: 0.0572 - val_accuracy: 0.9819\n",
      "\n",
      "Epoch 00001: saving model to CNN-AutoEncoder.h5\n",
      "Epoch 2/50\n",
      "263/263 [==============================] - 53s 203ms/step - loss: 0.0756 - accuracy: 0.9769 - val_loss: 0.0414 - val_accuracy: 0.9883\n",
      "\n",
      "Epoch 00002: saving model to CNN-AutoEncoder.h5\n",
      "Epoch 3/50\n",
      "263/263 [==============================] - 56s 214ms/step - loss: 0.0513 - accuracy: 0.9845 - val_loss: 0.0478 - val_accuracy: 0.9864\n",
      "\n",
      "Epoch 00003: saving model to CNN-AutoEncoder.h5\n",
      "Epoch 4/50\n",
      "263/263 [==============================] - 58s 219ms/step - loss: 0.0401 - accuracy: 0.9879 - val_loss: 0.0448 - val_accuracy: 0.9860\n",
      "\n",
      "Epoch 00004: saving model to CNN-AutoEncoder.h5\n",
      "Epoch 5/50\n",
      "263/263 [==============================] - 58s 220ms/step - loss: 0.0331 - accuracy: 0.9894 - val_loss: 0.0405 - val_accuracy: 0.9890\n",
      "\n",
      "Epoch 00005: saving model to CNN-AutoEncoder.h5\n",
      "Epoch 6/50\n",
      "263/263 [==============================] - 60s 228ms/step - loss: 0.0301 - accuracy: 0.9914 - val_loss: 0.0444 - val_accuracy: 0.9889\n",
      "\n",
      "Epoch 00006: saving model to CNN-AutoEncoder.h5\n",
      "Epoch 7/50\n",
      "263/263 [==============================] - 58s 222ms/step - loss: 0.0223 - accuracy: 0.9929 - val_loss: 0.0358 - val_accuracy: 0.9908\n",
      "\n",
      "Epoch 00007: saving model to CNN-AutoEncoder.h5\n",
      "Epoch 8/50\n",
      "263/263 [==============================] - 63s 239ms/step - loss: 0.0213 - accuracy: 0.9934 - val_loss: 0.0502 - val_accuracy: 0.9879\n",
      "\n",
      "Epoch 00008: saving model to CNN-AutoEncoder.h5\n",
      "Epoch 9/50\n",
      "263/263 [==============================] - 59s 224ms/step - loss: 0.0191 - accuracy: 0.9940 - val_loss: 0.0332 - val_accuracy: 0.9917\n",
      "\n",
      "Epoch 00009: saving model to CNN-AutoEncoder.h5\n",
      "Epoch 10/50\n",
      "263/263 [==============================] - 62s 238ms/step - loss: 0.0181 - accuracy: 0.9943 - val_loss: 0.0531 - val_accuracy: 0.9892\n",
      "\n",
      "Epoch 00010: saving model to CNN-AutoEncoder.h5\n",
      "Epoch 11/50\n",
      "263/263 [==============================] - 58s 220ms/step - loss: 0.0203 - accuracy: 0.9942 - val_loss: 0.0377 - val_accuracy: 0.9911\n",
      "\n",
      "Epoch 00011: saving model to CNN-AutoEncoder.h5\n",
      "Epoch 12/50\n",
      "263/263 [==============================] - 62s 237ms/step - loss: 0.0183 - accuracy: 0.9941 - val_loss: 0.0508 - val_accuracy: 0.9902\n",
      "\n",
      "Epoch 00012: saving model to CNN-AutoEncoder.h5\n",
      "Epoch 13/50\n",
      "263/263 [==============================] - 62s 238ms/step - loss: 0.0149 - accuracy: 0.9957 - val_loss: 0.0736 - val_accuracy: 0.9811\n",
      "\n",
      "Epoch 00013: saving model to CNN-AutoEncoder.h5\n",
      "Epoch 14/50\n",
      "263/263 [==============================] - 106s 405ms/step - loss: 0.0199 - accuracy: 0.9934 - val_loss: 0.0432 - val_accuracy: 0.9906\n",
      "\n",
      "Epoch 00014: saving model to CNN-AutoEncoder.h5\n",
      "Epoch 00014: early stopping\n"
     ]
    }
   ],
   "source": [
    "history2 = model2.fit(X_train, y_train, \n",
    "                    epochs=50, \n",
    "                    batch_size=128, \n",
    "                    validation_data=(X_test, y_test),\n",
    "                    callbacks=cb)\n",
    "scores = model2.evaluate(X_test, y_test, verbose=0)"
   ]
  },
  {
   "cell_type": "code",
   "execution_count": 26,
   "metadata": {},
   "outputs": [
    {
     "data": {
      "image/png": "[encoded data removed]",
      "text/plain": [
       "<Figure size 432x288 with 1 Axes>"
      ]
     },
     "metadata": {
      "needs_background": "light"
     },
     "output_type": "display_data"
    },
    {
     "data": {
      "image/png": "[encoded data removed]",
      "text/plain": [
       "<Figure size 432x288 with 1 Axes>"
      ]
     },
     "metadata": {
      "needs_background": "light"
     },
     "output_type": "display_data"
    }
   ],
   "source": [
    "plot_history(history2)"
   ]
  },
  {
   "cell_type": "code",
   "execution_count": 27,
   "metadata": {},
   "outputs": [
    {
     "name": "stdout",
     "output_type": "stream",
     "text": [
      "Test accuracy CNN%: 99.05952215194702\n"
     ]
    }
   ],
   "source": [
    "score2 = model2.evaluate(X_test, y_test, verbose=0)\n",
    "print('Test accuracy CNN AutoEncoder%:', (score2[1]*100))"
   ]
  },
  {
   "cell_type": "code",
   "execution_count": 28,
   "metadata": {},
   "outputs": [
    {
     "name": "stdout",
     "output_type": "stream",
     "text": [
      "[1 2 7 1 0 4 6 3 0 3]\n"
     ]
    }
   ],
   "source": [
    "pred_2=model2.predict(X_test, batch_size=128)\n",
    "y_pred_2= pred_2.argmax(axis=-1)\n",
    "\n",
    "y_true_onehot = y_test\n",
    "y_true_label = np.argmax(y_true_onehot, axis=1)\n",
    "y_true = y_true_label\n",
    "y_pred2 = y_pred_2\n",
    "print(y_pred2[0:10])"
   ]
  },
  {
   "cell_type": "code",
   "execution_count": 29,
   "metadata": {},
   "outputs": [
    {
     "name": "stdout",
     "output_type": "stream",
     "text": [
      "[[773   0   3   0   0   1   2   0   2   0]\n",
      " [  0 951   0   0   0   0   0   2   0   0]\n",
      " [  0   0 874   2   0   0   0   4   0   1]\n",
      " [  0   1   3 870   0   4   0   0   3   0]\n",
      " [  0   1   0   0 833   0   0   1   0   3]\n",
      " [  0   0   0   1   0 746   1   0   3   1]\n",
      " [  0   0   1   0   1   2 815   0   5   0]\n",
      " [  0   2   4   0   4   0   0 899   1   2]\n",
      " [  0   0   0   0   3   0   1   0 748   3]\n",
      " [  0   1   0   0   6   0   0   3   1 812]]\n"
     ]
    }
   ],
   "source": [
    "cm = confusion_matrix(y_true, y_pred2)\n",
    "print(cm)"
   ]
  },
  {
   "cell_type": "code",
   "execution_count": 30,
   "metadata": {},
   "outputs": [
    {
     "data": {
      "image/png": "[encoded data removed]",
      "text/plain": [
       "<Figure size 648x648 with 2 Axes>"
      ]
     },
     "metadata": {
      "needs_background": "light"
     },
     "output_type": "display_data"
    }
   ],
   "source": [
    "plt.figure(figsize=(9,9))\n",
    "plt.imshow(cm, interpolation='nearest', cmap='Pastel2')\n",
    "plt.title('Confusion matrix', size = 15)\n",
    "plt.colorbar()\n",
    "tick_marks = np.arange(10)\n",
    "plt.xticks(tick_marks, [\"0\", \"1\", \"2\", \"3\", \"4\", \"5\", \"6\", \"7\", \"8\", \"9\"], rotation=45, size = 10)\n",
    "plt.yticks(tick_marks, [\"0\", \"1\", \"2\", \"3\", \"4\", \"5\", \"6\", \"7\", \"8\", \"9\"], size = 10)\n",
    "plt.tight_layout()\n",
    "plt.ylabel('Actual label', size = 15)\n",
    "plt.xlabel('Predicted label', size = 15)\n",
    "width, height = cm.shape\n",
    "\n",
    "for x in range(width):\n",
    "    for y in range(height):\n",
    "        plt.annotate(str(cm[x][y]), xy=(y, x), \n",
    "                    horizontalalignment='center',\n",
    "                    verticalalignment='center')\n",
    "plt.savefig('CNN-AutoEncoder.png')"
   ]
  },
  {
   "cell_type": "markdown",
   "metadata": {},
   "source": [
    "### VGG-16 Transfer-Learning"
   ]
  },
  {
   "cell_type": "code",
   "execution_count": 31,
   "metadata": {},
   "outputs": [],
   "source": [
    "from tensorflow.keras.applications import VGG16\n",
    "from tensorflow.keras.applications.vgg16 import preprocess_input"
   ]
  },
  {
   "cell_type": "code",
   "execution_count": 32,
   "metadata": {},
   "outputs": [
    {
     "name": "stdout",
     "output_type": "stream",
     "text": [
      "Model: \"sequential_2\"\n",
      "_________________________________________________________________\n",
      "Layer (type)                 Output Shape              Param #   \n",
      "=================================================================\n",
      "vgg16 (Functional)           (None, 1, 1, 512)         14714688  \n",
      "_________________________________________________________________\n",
      "flatten_3 (Flatten)          (None, 512)               0         \n",
      "_________________________________________________________________\n",
      "dense_5 (Dense)              (None, 512)               262656    \n",
      "_________________________________________________________________\n",
      "dropout_8 (Dropout)          (None, 512)               0         \n",
      "_________________________________________________________________\n",
      "dense_6 (Dense)              (None, 256)               131328    \n",
      "_________________________________________________________________\n",
      "dropout_9 (Dropout)          (None, 256)               0         \n",
      "_________________________________________________________________\n",
      "dense_7 (Dense)              (None, 10)                2570      \n",
      "=================================================================\n",
      "Total params: 15,111,242\n",
      "Trainable params: 396,554\n",
      "Non-trainable params: 14,714,688\n",
      "_________________________________________________________________\n"
     ]
    }
   ],
   "source": [
    "VGG = VGG16(input_shape=(32, 32, 3), include_top=False, weights='imagenet')\n",
    "VGG.trainable = False\n",
    "\n",
    "model3 = Sequential([\n",
    "    VGG,\n",
    "    Flatten(),\n",
    "    Dense(units=512, activation=\"relu\"),\n",
    "    Dropout(0.1),\n",
    "    Dense(units=256, activation=\"relu\"),\n",
    "    Dropout(0.1),\n",
    "    Dense(units=10, activation=\"softmax\")\n",
    "    \n",
    "])\n",
    "\n",
    "model3.compile(loss=\"categorical_crossentropy\", optimizer=\"adam\", metrics=[\"accuracy\"])\n",
    "model3.summary()"
   ]
  },
  {
   "cell_type": "code",
   "execution_count": 33,
   "metadata": {},
   "outputs": [],
   "source": [
    "es = EarlyStopping(monitor='val_accuracy', verbose=1, patience=5)\n",
    "mc = ModelCheckpoint(filepath='CNN-VGG16.h5', verbose=1, monitor='val_acc')\n",
    "cb = [es, mc]"
   ]
  },
  {
   "cell_type": "code",
   "execution_count": 34,
   "metadata": {},
   "outputs": [
    {
     "name": "stdout",
     "output_type": "stream",
     "text": [
      "Epoch 1/50\n",
      "263/263 [==============================] - 77s 256ms/step - loss: 0.8003 - accuracy: 0.7390 - val_loss: 0.1978 - val_accuracy: 0.9336\n",
      "\n",
      "Epoch 00001: saving model to CNN-VGG16.h5\n",
      "Epoch 2/50\n",
      "263/263 [==============================] - 42s 158ms/step - loss: 0.1974 - accuracy: 0.9366 - val_loss: 0.1244 - val_accuracy: 0.9623\n",
      "\n",
      "Epoch 00002: saving model to CNN-VGG16.h5\n",
      "Epoch 3/50\n",
      "263/263 [==============================] - 13s 51ms/step - loss: 0.1395 - accuracy: 0.9547 - val_loss: 0.1104 - val_accuracy: 0.9663\n",
      "\n",
      "Epoch 00003: saving model to CNN-VGG16.h5\n",
      "Epoch 4/50\n",
      "263/263 [==============================] - 13s 50ms/step - loss: 0.1220 - accuracy: 0.9602 - val_loss: 0.1162 - val_accuracy: 0.9611\n",
      "\n",
      "Epoch 00004: saving model to CNN-VGG16.h5\n",
      "Epoch 5/50\n",
      "263/263 [==============================] - 13s 50ms/step - loss: 0.1060 - accuracy: 0.9630 - val_loss: 0.1095 - val_accuracy: 0.9657\n",
      "\n",
      "Epoch 00005: saving model to CNN-VGG16.h5\n",
      "Epoch 6/50\n",
      "263/263 [==============================] - 13s 50ms/step - loss: 0.1069 - accuracy: 0.9626 - val_loss: 0.0995 - val_accuracy: 0.9679\n",
      "\n",
      "Epoch 00006: saving model to CNN-VGG16.h5\n",
      "Epoch 7/50\n",
      "263/263 [==============================] - 13s 50ms/step - loss: 0.0956 - accuracy: 0.9691 - val_loss: 0.0933 - val_accuracy: 0.9715\n",
      "\n",
      "Epoch 00007: saving model to CNN-VGG16.h5\n",
      "Epoch 8/50\n",
      "263/263 [==============================] - 13s 49ms/step - loss: 0.0826 - accuracy: 0.9725 - val_loss: 0.1038 - val_accuracy: 0.9681\n",
      "\n",
      "Epoch 00008: saving model to CNN-VGG16.h5\n",
      "Epoch 9/50\n",
      "263/263 [==============================] - 13s 49ms/step - loss: 0.0767 - accuracy: 0.9738 - val_loss: 0.1049 - val_accuracy: 0.9675\n",
      "\n",
      "Epoch 00009: saving model to CNN-VGG16.h5\n",
      "Epoch 10/50\n",
      "263/263 [==============================] - 13s 50ms/step - loss: 0.0712 - accuracy: 0.9762 - val_loss: 0.0871 - val_accuracy: 0.9738\n",
      "\n",
      "Epoch 00010: saving model to CNN-VGG16.h5\n",
      "Epoch 11/50\n",
      "263/263 [==============================] - 13s 50ms/step - loss: 0.0718 - accuracy: 0.9749 - val_loss: 0.0885 - val_accuracy: 0.9738\n",
      "\n",
      "Epoch 00011: saving model to CNN-VGG16.h5\n",
      "Epoch 12/50\n",
      "263/263 [==============================] - 13s 50ms/step - loss: 0.0669 - accuracy: 0.9767 - val_loss: 0.0924 - val_accuracy: 0.9705\n",
      "\n",
      "Epoch 00012: saving model to CNN-VGG16.h5\n",
      "Epoch 13/50\n",
      "263/263 [==============================] - 13s 50ms/step - loss: 0.0591 - accuracy: 0.9791 - val_loss: 0.0939 - val_accuracy: 0.9718\n",
      "\n",
      "Epoch 00013: saving model to CNN-VGG16.h5\n",
      "Epoch 14/50\n",
      "263/263 [==============================] - 13s 50ms/step - loss: 0.0551 - accuracy: 0.9805 - val_loss: 0.1288 - val_accuracy: 0.9636\n",
      "\n",
      "Epoch 00014: saving model to CNN-VGG16.h5\n",
      "Epoch 15/50\n",
      "263/263 [==============================] - 13s 50ms/step - loss: 0.0621 - accuracy: 0.9798 - val_loss: 0.0824 - val_accuracy: 0.9745\n",
      "\n",
      "Epoch 00015: saving model to CNN-VGG16.h5\n",
      "Epoch 16/50\n",
      "263/263 [==============================] - 13s 50ms/step - loss: 0.0497 - accuracy: 0.9827 - val_loss: 0.0919 - val_accuracy: 0.9725\n",
      "\n",
      "Epoch 00016: saving model to CNN-VGG16.h5\n",
      "Epoch 17/50\n",
      "263/263 [==============================] - 13s 50ms/step - loss: 0.0556 - accuracy: 0.9815 - val_loss: 0.0874 - val_accuracy: 0.9735\n",
      "\n",
      "Epoch 00017: saving model to CNN-VGG16.h5\n",
      "Epoch 18/50\n",
      "263/263 [==============================] - 13s 50ms/step - loss: 0.0462 - accuracy: 0.9847 - val_loss: 0.0998 - val_accuracy: 0.9705\n",
      "\n",
      "Epoch 00018: saving model to CNN-VGG16.h5\n",
      "Epoch 19/50\n",
      "263/263 [==============================] - 13s 50ms/step - loss: 0.0450 - accuracy: 0.9852 - val_loss: 0.0802 - val_accuracy: 0.9775\n",
      "\n",
      "Epoch 00019: saving model to CNN-VGG16.h5\n",
      "Epoch 20/50\n",
      "263/263 [==============================] - 13s 50ms/step - loss: 0.0422 - accuracy: 0.9860 - val_loss: 0.0894 - val_accuracy: 0.9754\n",
      "\n",
      "Epoch 00020: saving model to CNN-VGG16.h5\n",
      "Epoch 21/50\n",
      "263/263 [==============================] - 13s 50ms/step - loss: 0.0440 - accuracy: 0.9855 - val_loss: 0.0914 - val_accuracy: 0.9751\n",
      "\n",
      "Epoch 00021: saving model to CNN-VGG16.h5\n",
      "Epoch 22/50\n",
      "263/263 [==============================] - 13s 50ms/step - loss: 0.0369 - accuracy: 0.9875 - val_loss: 0.0955 - val_accuracy: 0.9729\n",
      "\n",
      "Epoch 00022: saving model to CNN-VGG16.h5\n",
      "Epoch 23/50\n",
      "263/263 [==============================] - 13s 51ms/step - loss: 0.0406 - accuracy: 0.9859 - val_loss: 0.1064 - val_accuracy: 0.9717\n",
      "\n",
      "Epoch 00023: saving model to CNN-VGG16.h5\n",
      "Epoch 24/50\n",
      "263/263 [==============================] - 13s 51ms/step - loss: 0.0419 - accuracy: 0.9858 - val_loss: 0.1122 - val_accuracy: 0.9701\n",
      "\n",
      "Epoch 00024: saving model to CNN-VGG16.h5\n",
      "Epoch 00024: early stopping\n"
     ]
    }
   ],
   "source": [
    "history3 = model3.fit(X_train, y_train, \n",
    "                    epochs=50, \n",
    "                    batch_size=128, \n",
    "                    validation_data=(X_test, y_test),\n",
    "                    callbacks=cb)"
   ]
  },
  {
   "cell_type": "code",
   "execution_count": 35,
   "metadata": {},
   "outputs": [
    {
     "data": {
      "image/png": "[encoded data removed]",
      "text/plain": [
       "<Figure size 432x288 with 1 Axes>"
      ]
     },
     "metadata": {
      "needs_background": "light"
     },
     "output_type": "display_data"
    },
    {
     "data": {
      "image/png": "[encoded data removed]",
      "text/plain": [
       "<Figure size 432x288 with 1 Axes>"
      ]
     },
     "metadata": {
      "needs_background": "light"
     },
     "output_type": "display_data"
    }
   ],
   "source": [
    "plot_history(history3)"
   ]
  },
  {
   "cell_type": "code",
   "execution_count": 36,
   "metadata": {},
   "outputs": [
    {
     "name": "stdout",
     "output_type": "stream",
     "text": [
      "Test accuracy CNN VGG-16%: 97.0119059085846\n"
     ]
    }
   ],
   "source": [
    "score3 = model3.evaluate(X_test, y_test, verbose=0)\n",
    "print('Test accuracy CNN VGG-16%:', (score3[1]*100))"
   ]
  },
  {
   "cell_type": "code",
   "execution_count": 37,
   "metadata": {},
   "outputs": [
    {
     "name": "stdout",
     "output_type": "stream",
     "text": [
      "[1 2 7 1 0 4 6 3 0 3]\n"
     ]
    }
   ],
   "source": [
    "pred_3=model3.predict(X_test, batch_size=128)\n",
    "y_pred_3= pred_3.argmax(axis=-1)\n",
    "\n",
    "y_true_onehot = y_test\n",
    "y_true_label = np.argmax(y_true_onehot, axis=1)\n",
    "y_true = y_true_label\n",
    "y_pred3 = y_pred_3\n",
    "print(y_pred3[0:10])"
   ]
  },
  {
   "cell_type": "code",
   "execution_count": 38,
   "metadata": {},
   "outputs": [
    {
     "name": "stdout",
     "output_type": "stream",
     "text": [
      "[[767   0   1   0   2   0   7   0   0   4]\n",
      " [  0 942   0   0   1   0   0   9   1   0]\n",
      " [  1   1 831   5   6   3   5   9  14   6]\n",
      " [  0   0   7 843   0   1   4   5  18   3]\n",
      " [  0   1   1   0 818   1   3   8   1   5]\n",
      " [  1   0   4  13   1 696  21   0  11   5]\n",
      " [  2   1   0   0   1   1 816   0   3   0]\n",
      " [  0   0   1   1  10   0   1 898   1   0]\n",
      " [  0   0   1   1   2   1   5   1 741   3]\n",
      " [  2   1   0   0  12   0   3   4   4 797]]\n"
     ]
    }
   ],
   "source": [
    "cm = confusion_matrix(y_true, y_pred3)\n",
    "print(cm)"
   ]
  },
  {
   "cell_type": "code",
   "execution_count": 39,
   "metadata": {},
   "outputs": [
    {
     "data": {
      "image/png": "[encoded data removed]",
      "text/plain": [
       "<Figure size 648x648 with 2 Axes>"
      ]
     },
     "metadata": {
      "needs_background": "light"
     },
     "output_type": "display_data"
    }
   ],
   "source": [
    "plt.figure(figsize=(9,9))\n",
    "plt.imshow(cm, interpolation='nearest', cmap='Paired')\n",
    "plt.title('Confusion matrix', size = 15)\n",
    "plt.colorbar()\n",
    "tick_marks = np.arange(10)\n",
    "plt.xticks(tick_marks, [\"0\", \"1\", \"2\", \"3\", \"4\", \"5\", \"6\", \"7\", \"8\", \"9\"], rotation=45, size = 10)\n",
    "plt.yticks(tick_marks, [\"0\", \"1\", \"2\", \"3\", \"4\", \"5\", \"6\", \"7\", \"8\", \"9\"], size = 10)\n",
    "plt.tight_layout()\n",
    "plt.ylabel('Actual label', size = 15)\n",
    "plt.xlabel('Predicted label', size = 15)\n",
    "width, height = cm.shape\n",
    "\n",
    "for x in range(width):\n",
    "    for y in range(height):\n",
    "        plt.annotate(str(cm[x][y]), xy=(y, x), \n",
    "                    horizontalalignment='center',\n",
    "                    verticalalignment='center')\n",
    "plt.savefig('CNN-VGG-16.png')"
   ]
  },
  {
   "cell_type": "markdown",
   "metadata": {},
   "source": [
    "### VGG-19 Transfer Learning"
   ]
  },
  {
   "cell_type": "code",
   "execution_count": 40,
   "metadata": {},
   "outputs": [],
   "source": [
    "from tensorflow.keras.applications import VGG19\n",
    "from tensorflow.keras.applications.vgg19 import preprocess_input"
   ]
  },
  {
   "cell_type": "code",
   "execution_count": 42,
   "metadata": {},
   "outputs": [
    {
     "name": "stdout",
     "output_type": "stream",
     "text": [
      "Model: \"sequential_4\"\n",
      "_________________________________________________________________\n",
      "Layer (type)                 Output Shape              Param #   \n",
      "=================================================================\n",
      "vgg19 (Functional)           (None, 1, 1, 512)         20024384  \n",
      "_________________________________________________________________\n",
      "flatten_5 (Flatten)          (None, 512)               0         \n",
      "_________________________________________________________________\n",
      "dense_11 (Dense)             (None, 512)               262656    \n",
      "_________________________________________________________________\n",
      "dropout_12 (Dropout)         (None, 512)               0         \n",
      "_________________________________________________________________\n",
      "dense_12 (Dense)             (None, 256)               131328    \n",
      "_________________________________________________________________\n",
      "dropout_13 (Dropout)         (None, 256)               0         \n",
      "_________________________________________________________________\n",
      "dense_13 (Dense)             (None, 10)                2570      \n",
      "=================================================================\n",
      "Total params: 20,420,938\n",
      "Trainable params: 396,554\n",
      "Non-trainable params: 20,024,384\n",
      "_________________________________________________________________\n"
     ]
    }
   ],
   "source": [
    "VGG = VGG19(input_shape=(32, 32, 3), include_top=False, weights='imagenet')\n",
    "VGG.trainable = False\n",
    "\n",
    "model4 = Sequential([\n",
    "    VGG,\n",
    "    Flatten(),\n",
    "    Dense(units=512, activation=\"relu\"),\n",
    "    Dropout(0.1),\n",
    "    Dense(units=256, activation=\"relu\"),\n",
    "    Dropout(0.1),\n",
    "    Dense(units=10, activation=\"softmax\")\n",
    "    \n",
    "])\n",
    "\n",
    "model4.compile(loss=\"categorical_crossentropy\", optimizer=\"adam\", metrics=[\"accuracy\"])\n",
    "\n",
    "model4.summary()"
   ]
  },
  {
   "cell_type": "code",
   "execution_count": 43,
   "metadata": {},
   "outputs": [],
   "source": [
    "es = EarlyStopping(monitor='val_accuracy', verbose=1, patience=5)\n",
    "mc = ModelCheckpoint(filepath='CNN-VGG19.h5', verbose=1, monitor='val_acc')\n",
    "cb = [es, mc]"
   ]
  },
  {
   "cell_type": "code",
   "execution_count": 44,
   "metadata": {},
   "outputs": [
    {
     "name": "stdout",
     "output_type": "stream",
     "text": [
      "Epoch 1/50\n",
      "263/263 [==============================] - 17s 62ms/step - loss: 0.7499 - accuracy: 0.7669 - val_loss: 0.1746 - val_accuracy: 0.9464\n",
      "\n",
      "Epoch 00001: saving model to CNN-VGG19.h5\n",
      "Epoch 2/50\n",
      "263/263 [==============================] - 16s 60ms/step - loss: 0.1578 - accuracy: 0.9498 - val_loss: 0.1244 - val_accuracy: 0.9602\n",
      "\n",
      "Epoch 00002: saving model to CNN-VGG19.h5\n",
      "Epoch 3/50\n",
      "263/263 [==============================] - 16s 61ms/step - loss: 0.1348 - accuracy: 0.9562 - val_loss: 0.1195 - val_accuracy: 0.9627\n",
      "\n",
      "Epoch 00003: saving model to CNN-VGG19.h5\n",
      "Epoch 4/50\n",
      "263/263 [==============================] - 16s 61ms/step - loss: 0.1133 - accuracy: 0.9631 - val_loss: 0.1247 - val_accuracy: 0.9614\n",
      "\n",
      "Epoch 00004: saving model to CNN-VGG19.h5\n",
      "Epoch 5/50\n",
      "263/263 [==============================] - 16s 61ms/step - loss: 0.1064 - accuracy: 0.9654 - val_loss: 0.1195 - val_accuracy: 0.9621\n",
      "\n",
      "Epoch 00005: saving model to CNN-VGG19.h5\n",
      "Epoch 6/50\n",
      "263/263 [==============================] - 16s 61ms/step - loss: 0.0944 - accuracy: 0.9682 - val_loss: 0.1033 - val_accuracy: 0.9677\n",
      "\n",
      "Epoch 00006: saving model to CNN-VGG19.h5\n",
      "Epoch 7/50\n",
      "263/263 [==============================] - 16s 61ms/step - loss: 0.0910 - accuracy: 0.9704 - val_loss: 0.0979 - val_accuracy: 0.9693\n",
      "\n",
      "Epoch 00007: saving model to CNN-VGG19.h5\n",
      "Epoch 8/50\n",
      "263/263 [==============================] - 16s 62ms/step - loss: 0.0854 - accuracy: 0.9718 - val_loss: 0.1038 - val_accuracy: 0.9685\n",
      "\n",
      "Epoch 00008: saving model to CNN-VGG19.h5\n",
      "Epoch 9/50\n",
      "263/263 [==============================] - 16s 62ms/step - loss: 0.0770 - accuracy: 0.9735 - val_loss: 0.0851 - val_accuracy: 0.9750\n",
      "\n",
      "Epoch 00009: saving model to CNN-VGG19.h5\n",
      "Epoch 10/50\n",
      "263/263 [==============================] - 16s 62ms/step - loss: 0.0722 - accuracy: 0.9759 - val_loss: 0.0860 - val_accuracy: 0.9713\n",
      "\n",
      "Epoch 00010: saving model to CNN-VGG19.h5\n",
      "Epoch 11/50\n",
      "263/263 [==============================] - 16s 62ms/step - loss: 0.0753 - accuracy: 0.9756 - val_loss: 0.0824 - val_accuracy: 0.9758\n",
      "\n",
      "Epoch 00011: saving model to CNN-VGG19.h5\n",
      "Epoch 12/50\n",
      "263/263 [==============================] - 16s 62ms/step - loss: 0.0668 - accuracy: 0.9777 - val_loss: 0.0820 - val_accuracy: 0.9739\n",
      "\n",
      "Epoch 00012: saving model to CNN-VGG19.h5\n",
      "Epoch 13/50\n",
      "263/263 [==============================] - 16s 62ms/step - loss: 0.0644 - accuracy: 0.9786 - val_loss: 0.0856 - val_accuracy: 0.9731\n",
      "\n",
      "Epoch 00013: saving model to CNN-VGG19.h5\n",
      "Epoch 14/50\n",
      "263/263 [==============================] - 16s 63ms/step - loss: 0.0581 - accuracy: 0.9801 - val_loss: 0.0796 - val_accuracy: 0.9751\n",
      "\n",
      "Epoch 00014: saving model to CNN-VGG19.h5\n",
      "Epoch 15/50\n",
      "263/263 [==============================] - 16s 62ms/step - loss: 0.0577 - accuracy: 0.9801 - val_loss: 0.0812 - val_accuracy: 0.9742\n",
      "\n",
      "Epoch 00015: saving model to CNN-VGG19.h5\n",
      "Epoch 16/50\n",
      "263/263 [==============================] - 16s 63ms/step - loss: 0.0529 - accuracy: 0.9810 - val_loss: 0.0908 - val_accuracy: 0.9720\n",
      "\n",
      "Epoch 00016: saving model to CNN-VGG19.h5\n",
      "Epoch 00016: early stopping\n",
      "Test accuracy CNN-VGG19-Model%: 97.20237851142883\n"
     ]
    }
   ],
   "source": [
    "history4 = model4.fit(X_train, y_train, \n",
    "                    epochs=50, \n",
    "                    batch_size=128, \n",
    "                    validation_data=(X_test, y_test),\n",
    "                    callbacks=cb)\n",
    "scores = model4.evaluate(X_test, y_test, verbose=0)\n",
    "print('Test accuracy CNN-VGG19-Model%:', (scores[1]*100))"
   ]
  },
  {
   "cell_type": "code",
   "execution_count": 45,
   "metadata": {},
   "outputs": [
    {
     "data": {
      "image/png": "[encoded data removed]",
      "text/plain": [
       "<Figure size 432x288 with 1 Axes>"
      ]
     },
     "metadata": {
      "needs_background": "light"
     },
     "output_type": "display_data"
    },
    {
     "data": {
      "image/png": "[encoded data removed]",
      "text/plain": [
       "<Figure size 432x288 with 1 Axes>"
      ]
     },
     "metadata": {
      "needs_background": "light"
     },
     "output_type": "display_data"
    }
   ],
   "source": [
    "plot_history(history4)"
   ]
  },
  {
   "cell_type": "code",
   "execution_count": 46,
   "metadata": {},
   "outputs": [
    {
     "name": "stdout",
     "output_type": "stream",
     "text": [
      "Test accuracy CNN VGG-19%: 97.20237851142883\n"
     ]
    }
   ],
   "source": [
    "score4 = model4.evaluate(X_test, y_test, verbose=0)\n",
    "print('Test accuracy CNN VGG-19%:', (score4[1]*100))"
   ]
  },
  {
   "cell_type": "code",
   "execution_count": 47,
   "metadata": {},
   "outputs": [
    {
     "name": "stdout",
     "output_type": "stream",
     "text": [
      "[1 8 4 1 0 4 6 3 0 3]\n"
     ]
    }
   ],
   "source": [
    "pred_4=model4.predict(X_test, batch_size=128)\n",
    "y_pred_4= pred_4.argmax(axis=-1)\n",
    "\n",
    "y_true_onehot = y_test\n",
    "y_true_label = np.argmax(y_true_onehot, axis=1)\n",
    "y_true = y_true_label\n",
    "y_pred4 = y_pred_4\n",
    "print(y_pred4[0:10])"
   ]
  },
  {
   "cell_type": "code",
   "execution_count": 48,
   "metadata": {},
   "outputs": [
    {
     "name": "stdout",
     "output_type": "stream",
     "text": [
      "[[771   1   3   0   0   0   4   0   1   1]\n",
      " [  0 938   0   0   7   0   1   5   0   2]\n",
      " [  0   0 853   2   4   3   1   3  10   5]\n",
      " [  0   0  17 840   0  13   2   1   6   2]\n",
      " [  0   1   1   0 825   0   2   1   0   8]\n",
      " [  1   0  13   4   1 724   1   1   4   3]\n",
      " [  0   0   5   0   1   2 814   0   2   0]\n",
      " [  0   0   1   0  33   0   0 876   0   2]\n",
      " [  1   0  11   0   7   1   2   0 728   5]\n",
      " [  0   1   2   0  18   0   0   2   4 796]]\n"
     ]
    }
   ],
   "source": [
    "cm = confusion_matrix(y_true, y_pred4)\n",
    "print(cm)"
   ]
  },
  {
   "cell_type": "code",
   "execution_count": 49,
   "metadata": {},
   "outputs": [
    {
     "data": {
      "image/png": "[encoded data removed]",
      "text/plain": [
       "<Figure size 648x648 with 2 Axes>"
      ]
     },
     "metadata": {
      "needs_background": "light"
     },
     "output_type": "display_data"
    }
   ],
   "source": [
    "plt.figure(figsize=(9,9))\n",
    "plt.imshow(cm, interpolation='nearest', cmap='Accent')\n",
    "plt.title('Confusion matrix', size = 15)\n",
    "plt.colorbar()\n",
    "tick_marks = np.arange(10)\n",
    "plt.xticks(tick_marks, [\"0\", \"1\", \"2\", \"3\", \"4\", \"5\", \"6\", \"7\", \"8\", \"9\"], rotation=45, size = 10)\n",
    "plt.yticks(tick_marks, [\"0\", \"1\", \"2\", \"3\", \"4\", \"5\", \"6\", \"7\", \"8\", \"9\"], size = 10)\n",
    "plt.tight_layout()\n",
    "plt.ylabel('Actual label', size = 15)\n",
    "plt.xlabel('Predicted label', size = 15)\n",
    "width, height = cm.shape\n",
    "\n",
    "for x in range(width):\n",
    "    for y in range(height):\n",
    "        plt.annotate(str(cm[x][y]), xy=(y, x), \n",
    "                    horizontalalignment='center',\n",
    "                    verticalalignment='center')\n",
    "plt.savefig('CNN-VGG-19.png')"
   ]
  },
  {
   "cell_type": "markdown",
   "metadata": {},
   "source": [
    "### Evaluating and SUBMISSION\n",
    "\n",
    "As it is observed that CNN Autoencoder is giving the Highest Test Accuracy of 99.01%\n",
    "\n",
    "We will be submtting that model"
   ]
  },
  {
   "cell_type": "code",
   "execution_count": 50,
   "metadata": {},
   "outputs": [],
   "source": [
    "from tensorflow.keras.models import load_model\n",
    "\n",
    "model = load_model('CNN-AutoEncoder.h5')\n",
    "prediction = model.predict([X_test_final])"
   ]
  },
  {
   "cell_type": "code",
   "execution_count": 51,
   "metadata": {},
   "outputs": [
    {
     "name": "stdout",
     "output_type": "stream",
     "text": [
      "2\n"
     ]
    }
   ],
   "source": [
    "print(np.argmax(prediction[0]))"
   ]
  },
  {
   "cell_type": "code",
   "execution_count": 52,
   "metadata": {},
   "outputs": [
    {
     "data": {
      "text/plain": [
       "<function matplotlib.pyplot.show(close=None, block=None)>"
      ]
     },
     "execution_count": 52,
     "metadata": {},
     "output_type": "execute_result"
    },
    {
     "data": {
      "image/png": "[encoded data removed]",
      "text/plain": [
       "<Figure size 432x288 with 1 Axes>"
      ]
     },
     "metadata": {
      "needs_background": "light"
     },
     "output_type": "display_data"
    }
   ],
   "source": [
    "plt.imshow(X_test_final[0])\n",
    "plt.show"
   ]
  },
  {
   "cell_type": "code",
   "execution_count": 53,
   "metadata": {},
   "outputs": [
    {
     "data": {
      "text/html": [
       "<div>\n",
       "<style scoped>\n",
       "    .dataframe tbody tr th:only-of-type {\n",
       "        vertical-align: middle;\n",
       "    }\n",
       "\n",
       "    .dataframe tbody tr th {\n",
       "        vertical-align: top;\n",
       "    }\n",
       "\n",
       "    .dataframe thead th {\n",
       "        text-align: right;\n",
       "    }\n",
       "</style>\n",
       "<table border=\"1\" class=\"dataframe\">\n",
       "  <thead>\n",
       "    <tr style=\"text-align: right;\">\n",
       "      <th></th>\n",
       "      <th>ImageId</th>\n",
       "      <th>Label</th>\n",
       "    </tr>\n",
       "  </thead>\n",
       "  <tbody>\n",
       "    <tr>\n",
       "      <th>0</th>\n",
       "      <td>1</td>\n",
       "      <td>2</td>\n",
       "    </tr>\n",
       "    <tr>\n",
       "      <th>1</th>\n",
       "      <td>2</td>\n",
       "      <td>0</td>\n",
       "    </tr>\n",
       "    <tr>\n",
       "      <th>2</th>\n",
       "      <td>3</td>\n",
       "      <td>9</td>\n",
       "    </tr>\n",
       "    <tr>\n",
       "      <th>3</th>\n",
       "      <td>4</td>\n",
       "      <td>0</td>\n",
       "    </tr>\n",
       "    <tr>\n",
       "      <th>4</th>\n",
       "      <td>5</td>\n",
       "      <td>3</td>\n",
       "    </tr>\n",
       "    <tr>\n",
       "      <th>...</th>\n",
       "      <td>...</td>\n",
       "      <td>...</td>\n",
       "    </tr>\n",
       "    <tr>\n",
       "      <th>27995</th>\n",
       "      <td>27996</td>\n",
       "      <td>9</td>\n",
       "    </tr>\n",
       "    <tr>\n",
       "      <th>27996</th>\n",
       "      <td>27997</td>\n",
       "      <td>7</td>\n",
       "    </tr>\n",
       "    <tr>\n",
       "      <th>27997</th>\n",
       "      <td>27998</td>\n",
       "      <td>3</td>\n",
       "    </tr>\n",
       "    <tr>\n",
       "      <th>27998</th>\n",
       "      <td>27999</td>\n",
       "      <td>9</td>\n",
       "    </tr>\n",
       "    <tr>\n",
       "      <th>27999</th>\n",
       "      <td>28000</td>\n",
       "      <td>2</td>\n",
       "    </tr>\n",
       "  </tbody>\n",
       "</table>\n",
       "<p>28000 rows × 2 columns</p>\n",
       "</div>"
      ],
      "text/plain": [
       "       ImageId  Label\n",
       "0            1      2\n",
       "1            2      0\n",
       "2            3      9\n",
       "3            4      0\n",
       "4            5      3\n",
       "...        ...    ...\n",
       "27995    27996      9\n",
       "27996    27997      7\n",
       "27997    27998      3\n",
       "27998    27999      9\n",
       "27999    28000      2\n",
       "\n",
       "[28000 rows x 2 columns]"
      ]
     },
     "execution_count": 53,
     "metadata": {},
     "output_type": "execute_result"
    }
   ],
   "source": [
    "label = [np.argmax(x) for x in prediction]\n",
    "ImageId = [x+1 for x in range(len(prediction))]\n",
    "\n",
    "submission = pd.DataFrame({'ImageId': ImageId,\n",
    "                          'Label' : label}, index = None)\n",
    "submission"
   ]
  },
  {
   "cell_type": "code",
   "execution_count": 54,
   "metadata": {},
   "outputs": [],
   "source": [
    "submission.to_csv('MySubmission.csv', index=False)"
   ]
  },
  {
   "cell_type": "code",
   "execution_count": null,
   "metadata": {},
   "outputs": [],
   "source": []
  }
 ],
 "metadata": {
  "kernelspec": {
   "display_name": "Python 3",
   "language": "python",
   "name": "python3"
  },
  "language_info": {
   "codemirror_mode": {
    "name": "ipython",
    "version": 3
   },
   "file_extension": ".py",
   "mimetype": "text/x-python",
   "name": "python",
   "nbconvert_exporter": "python",
   "pygments_lexer": "ipython3",
   "version": "3.7.5"
  }
 },
 "nbformat": 4,
 "nbformat_minor": 4
}
